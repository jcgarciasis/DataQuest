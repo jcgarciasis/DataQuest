{
 "cells": [
  {
   "cell_type": "code",
   "execution_count": null,
   "metadata": {},
   "outputs": [],
   "source": []
  },
  {
   "cell_type": "markdown",
   "metadata": {},
   "source": [
    "## Introduction to the dataset\n",
    "\n",
    "- Use the pandas library to read bike_rental_hour.csv into the dataframe bike_rentals.\n",
    "- Print out the first few rows of bike_rentals and take a look at the data.\n",
    "- Make a histogram of the cnt column of bike_rentals, and take a look at the distribution of total rentals.\n",
    "- Use the corr method on the bike_rentals dataframe to explore how each column is correlated with cnt.\n"
   ]
  },
  {
   "cell_type": "code",
   "execution_count": 75,
   "metadata": {
    "scrolled": true
   },
   "outputs": [
    {
     "data": {
      "text/html": [
       "<div>\n",
       "<style scoped>\n",
       "    .dataframe tbody tr th:only-of-type {\n",
       "        vertical-align: middle;\n",
       "    }\n",
       "\n",
       "    .dataframe tbody tr th {\n",
       "        vertical-align: top;\n",
       "    }\n",
       "\n",
       "    .dataframe thead th {\n",
       "        text-align: right;\n",
       "    }\n",
       "</style>\n",
       "<table border=\"1\" class=\"dataframe\">\n",
       "  <thead>\n",
       "    <tr style=\"text-align: right;\">\n",
       "      <th></th>\n",
       "      <th>instant</th>\n",
       "      <th>dteday</th>\n",
       "      <th>season</th>\n",
       "      <th>yr</th>\n",
       "      <th>mnth</th>\n",
       "      <th>hr</th>\n",
       "      <th>holiday</th>\n",
       "      <th>weekday</th>\n",
       "      <th>workingday</th>\n",
       "      <th>weathersit</th>\n",
       "      <th>temp</th>\n",
       "      <th>atemp</th>\n",
       "      <th>hum</th>\n",
       "      <th>windspeed</th>\n",
       "      <th>casual</th>\n",
       "      <th>registered</th>\n",
       "      <th>cnt</th>\n",
       "    </tr>\n",
       "  </thead>\n",
       "  <tbody>\n",
       "    <tr>\n",
       "      <th>0</th>\n",
       "      <td>1</td>\n",
       "      <td>2011-01-01</td>\n",
       "      <td>1</td>\n",
       "      <td>0</td>\n",
       "      <td>1</td>\n",
       "      <td>0</td>\n",
       "      <td>0</td>\n",
       "      <td>6</td>\n",
       "      <td>0</td>\n",
       "      <td>1</td>\n",
       "      <td>0.24</td>\n",
       "      <td>0.2879</td>\n",
       "      <td>0.81</td>\n",
       "      <td>0.0</td>\n",
       "      <td>3</td>\n",
       "      <td>13</td>\n",
       "      <td>16</td>\n",
       "    </tr>\n",
       "    <tr>\n",
       "      <th>1</th>\n",
       "      <td>2</td>\n",
       "      <td>2011-01-01</td>\n",
       "      <td>1</td>\n",
       "      <td>0</td>\n",
       "      <td>1</td>\n",
       "      <td>1</td>\n",
       "      <td>0</td>\n",
       "      <td>6</td>\n",
       "      <td>0</td>\n",
       "      <td>1</td>\n",
       "      <td>0.22</td>\n",
       "      <td>0.2727</td>\n",
       "      <td>0.80</td>\n",
       "      <td>0.0</td>\n",
       "      <td>8</td>\n",
       "      <td>32</td>\n",
       "      <td>40</td>\n",
       "    </tr>\n",
       "    <tr>\n",
       "      <th>2</th>\n",
       "      <td>3</td>\n",
       "      <td>2011-01-01</td>\n",
       "      <td>1</td>\n",
       "      <td>0</td>\n",
       "      <td>1</td>\n",
       "      <td>2</td>\n",
       "      <td>0</td>\n",
       "      <td>6</td>\n",
       "      <td>0</td>\n",
       "      <td>1</td>\n",
       "      <td>0.22</td>\n",
       "      <td>0.2727</td>\n",
       "      <td>0.80</td>\n",
       "      <td>0.0</td>\n",
       "      <td>5</td>\n",
       "      <td>27</td>\n",
       "      <td>32</td>\n",
       "    </tr>\n",
       "    <tr>\n",
       "      <th>3</th>\n",
       "      <td>4</td>\n",
       "      <td>2011-01-01</td>\n",
       "      <td>1</td>\n",
       "      <td>0</td>\n",
       "      <td>1</td>\n",
       "      <td>3</td>\n",
       "      <td>0</td>\n",
       "      <td>6</td>\n",
       "      <td>0</td>\n",
       "      <td>1</td>\n",
       "      <td>0.24</td>\n",
       "      <td>0.2879</td>\n",
       "      <td>0.75</td>\n",
       "      <td>0.0</td>\n",
       "      <td>3</td>\n",
       "      <td>10</td>\n",
       "      <td>13</td>\n",
       "    </tr>\n",
       "    <tr>\n",
       "      <th>4</th>\n",
       "      <td>5</td>\n",
       "      <td>2011-01-01</td>\n",
       "      <td>1</td>\n",
       "      <td>0</td>\n",
       "      <td>1</td>\n",
       "      <td>4</td>\n",
       "      <td>0</td>\n",
       "      <td>6</td>\n",
       "      <td>0</td>\n",
       "      <td>1</td>\n",
       "      <td>0.24</td>\n",
       "      <td>0.2879</td>\n",
       "      <td>0.75</td>\n",
       "      <td>0.0</td>\n",
       "      <td>0</td>\n",
       "      <td>1</td>\n",
       "      <td>1</td>\n",
       "    </tr>\n",
       "  </tbody>\n",
       "</table>\n",
       "</div>"
      ],
      "text/plain": [
       "   instant      dteday  season  yr  mnth  hr  holiday  weekday  workingday  \\\n",
       "0        1  2011-01-01       1   0     1   0        0        6           0   \n",
       "1        2  2011-01-01       1   0     1   1        0        6           0   \n",
       "2        3  2011-01-01       1   0     1   2        0        6           0   \n",
       "3        4  2011-01-01       1   0     1   3        0        6           0   \n",
       "4        5  2011-01-01       1   0     1   4        0        6           0   \n",
       "\n",
       "   weathersit  temp   atemp   hum  windspeed  casual  registered  cnt  \n",
       "0           1  0.24  0.2879  0.81        0.0       3          13   16  \n",
       "1           1  0.22  0.2727  0.80        0.0       8          32   40  \n",
       "2           1  0.22  0.2727  0.80        0.0       5          27   32  \n",
       "3           1  0.24  0.2879  0.75        0.0       3          10   13  \n",
       "4           1  0.24  0.2879  0.75        0.0       0           1    1  "
      ]
     },
     "execution_count": 75,
     "metadata": {},
     "output_type": "execute_result"
    }
   ],
   "source": [
    "import pandas\n",
    "import numpy as np\n",
    "\n",
    "bike_rentals = pandas.read_csv(\"bike_rental_hour.csv\")\n",
    "bike_rentals.head()"
   ]
  },
  {
   "cell_type": "code",
   "execution_count": 22,
   "metadata": {},
   "outputs": [
    {
     "data": {
      "text/plain": [
       "(array([6972., 3705., 2659., 1660.,  987.,  663.,  369.,  188.,  139.,\n",
       "          37.]),\n",
       " array([  1. ,  98.6, 196.2, 293.8, 391.4, 489. , 586.6, 684.2, 781.8,\n",
       "        879.4, 977. ]),\n",
       " <a list of 10 Patch objects>)"
      ]
     },
     "execution_count": 22,
     "metadata": {},
     "output_type": "execute_result"
    },
    {
     "data": {
      "image/png": "[encoded data removed]",
      "text/plain": [
       "<matplotlib.figure.Figure at 0x28482d27550>"
      ]
     },
     "metadata": {},
     "output_type": "display_data"
    }
   ],
   "source": [
    "%matplotlib inline\n",
    "\n",
    "import matplotlib.pyplot as plt\n",
    "\n",
    "plt.hist(bike_rentals[\"cnt\"])"
   ]
  },
  {
   "cell_type": "code",
   "execution_count": 26,
   "metadata": {},
   "outputs": [
    {
     "data": {
      "text/plain": [
       "instant       0.278379\n",
       "season        0.178056\n",
       "yr            0.250495\n",
       "mnth          0.120638\n",
       "hr            0.394071\n",
       "holiday      -0.030927\n",
       "weekday       0.026900\n",
       "workingday    0.030284\n",
       "weathersit   -0.142426\n",
       "temp          0.404772\n",
       "atemp         0.400929\n",
       "hum          -0.322911\n",
       "windspeed     0.093234\n",
       "casual        0.694564\n",
       "registered    0.972151\n",
       "cnt           1.000000\n",
       "Name: cnt, dtype: float64"
      ]
     },
     "execution_count": 26,
     "metadata": {},
     "output_type": "execute_result"
    }
   ],
   "source": [
    "correlations=bike_rentals.corr(method=\"pearson\")\n",
    "correlations[\"cnt\"]"
   ]
  },
  {
   "cell_type": "markdown",
   "metadata": {},
   "source": [
    "## Calculate features\n",
    "\n",
    "- Write a function called assign_label that takes in a numeric value for an hour, and returns:\n",
    "    - 1 if the hour is from 6 to 12\n",
    "    - 2 if the hour is from 12 to 18\n",
    "    - 3 if the hour is from 18 to 24\n",
    "    - 4 if the hour is from 0 to 6\n",
    "- Use the apply method on series objects to apply the function to each item in the hr column.\n",
    "- Assign the result to the time_label column of bike_rentals."
   ]
  },
  {
   "cell_type": "code",
   "execution_count": 17,
   "metadata": {},
   "outputs": [],
   "source": [
    "def assign_label(num):\n",
    "    if 6 <= num and num <= 12:\n",
    "        return(1)\n",
    "    if 12 <= num and num <= 18:\n",
    "        return(2)\n",
    "    if 18 <= num and num <= 24:\n",
    "        return(3)\n",
    "    if 0 <= num and num <= 12:\n",
    "        return(4)\n",
    "    \n",
    "bike_rentals['time_label'] = bike_rentals[\"hr\"].apply(lambda num: assign_label(num))"
   ]
  },
  {
   "cell_type": "code",
   "execution_count": 18,
   "metadata": {},
   "outputs": [
    {
     "data": {
      "text/plain": [
       "0        4\n",
       "1        4\n",
       "2        4\n",
       "3        4\n",
       "4        4\n",
       "5        4\n",
       "6        1\n",
       "7        1\n",
       "8        1\n",
       "9        1\n",
       "10       1\n",
       "11       1\n",
       "12       1\n",
       "13       2\n",
       "14       2\n",
       "15       2\n",
       "16       2\n",
       "17       2\n",
       "18       2\n",
       "19       3\n",
       "20       3\n",
       "21       3\n",
       "22       3\n",
       "23       3\n",
       "24       4\n",
       "25       4\n",
       "26       4\n",
       "27       4\n",
       "28       4\n",
       "29       1\n",
       "        ..\n",
       "17349    2\n",
       "17350    3\n",
       "17351    3\n",
       "17352    3\n",
       "17353    3\n",
       "17354    3\n",
       "17355    4\n",
       "17356    4\n",
       "17357    4\n",
       "17358    4\n",
       "17359    4\n",
       "17360    4\n",
       "17361    1\n",
       "17362    1\n",
       "17363    1\n",
       "17364    1\n",
       "17365    1\n",
       "17366    1\n",
       "17367    1\n",
       "17368    2\n",
       "17369    2\n",
       "17370    2\n",
       "17371    2\n",
       "17372    2\n",
       "17373    2\n",
       "17374    3\n",
       "17375    3\n",
       "17376    3\n",
       "17377    3\n",
       "17378    3\n",
       "Name: time_label, Length: 17379, dtype: int64"
      ]
     },
     "execution_count": 18,
     "metadata": {},
     "output_type": "execute_result"
    }
   ],
   "source": [
    "bike_rentals[\"time_label\"]"
   ]
  },
  {
   "cell_type": "markdown",
   "metadata": {},
   "source": [
    "## Splitting the Data Into Train and Test Sets\n",
    "\n",
    "- Based on your explorations of the cnt column, pick an error metric you want to use to evaluate the performance of the machine learning algorithms. Explain why you chose this metric in a markdown cell.\n",
    "- Select 80% of the rows in bike_rentals to be part of the training set using the sample method on bike_rentals. Assign the result to train.\n",
    "- Select the rows that are in bike_rentals but not in train to be in the testing set. Assign the result to test.\n",
    "     - This line will generate a Boolean series that's False when a row in bike_rentals isn't found in train: bike_rentals.index.isin(train.index)\n",
    "     - This line will select any rows in bike_rentals that aren't found in train to be in the testing set: bike_rentals.loc[~bike_rentals.index.isin(train.index)]"
   ]
  },
  {
   "cell_type": "markdown",
   "metadata": {},
   "source": [
    "## Error metric\n",
    "The mean squared error metric makes the most sense to evaluate our error. MSE works on continuous numeric data, which fits our data quite well."
   ]
  },
  {
   "cell_type": "code",
   "execution_count": 27,
   "metadata": {},
   "outputs": [],
   "source": [
    "train = bike_rentals.sample(frac=.8)\n",
    "test = bike_rentals.loc[~bike_rentals.index.isin(train.index)]"
   ]
  },
  {
   "cell_type": "markdown",
   "metadata": {},
   "source": [
    "## Applying Linear Regression\n",
    "\n",
    "- Create a list of predictor columns to use in training and predictions.\n",
    "    - At a minimum, this list should exclude the cnt, casual, dteday, and registered columns.\n",
    "    - Feel free to remove other columns you don't think will be useful for the predictions.\n",
    "- Use the LinearRegression class from sklearn to train a machine learning algorithm on train.\n",
    "    - Use only the columns in the list of predictors for this.\n",
    "- Make predictions using the LinearRegression class on test.\n",
    "    - Use the exact same predictor columns here.\n",
    "- Calculate the error between the predictions and the actual values.\n",
    "- Write your thoughts about the predictions and the error in a markdown cell."
   ]
  },
  {
   "cell_type": "code",
   "execution_count": 92,
   "metadata": {},
   "outputs": [],
   "source": [
    "predictor = ['instant', 'season', 'yr', 'mnth', 'hr', 'holiday', 'weekday',\n",
    "       'workingday', 'weathersit', 'temp', 'atemp', 'hum', 'windspeed']\n"
   ]
  },
  {
   "cell_type": "code",
   "execution_count": 93,
   "metadata": {},
   "outputs": [
    {
     "data": {
      "text/plain": [
       "LinearRegression(copy_X=True, fit_intercept=True, n_jobs=1, normalize=False)"
      ]
     },
     "execution_count": 93,
     "metadata": {},
     "output_type": "execute_result"
    }
   ],
   "source": [
    "from sklearn.linear_model import LinearRegression\n",
    "model=LinearRegression()\n",
    "model.fit(X=train[predictor], y=train[\"cnt\"])"
   ]
  },
  {
   "cell_type": "code",
   "execution_count": 94,
   "metadata": {},
   "outputs": [],
   "source": [
    "predictions=model.predict(test[predictor])"
   ]
  },
  {
   "cell_type": "code",
   "execution_count": 95,
   "metadata": {},
   "outputs": [
    {
     "name": "stdout",
     "output_type": "stream",
     "text": [
      "mse 20341.817100251024\n",
      "rmse 142.62474224429303\n",
      "target range 1 - 977\n",
      "target sd 181.38238043116962\n"
     ]
    }
   ],
   "source": [
    "from sklearn.metrics import mean_squared_error\n",
    "mse = mean_squared_error(test[\"cnt\"], predictions)\n",
    "print(\"mse\", mse)\n",
    "rmse = mse ** (1/2)\n",
    "print(\"rmse\", rmse)\n",
    "print(\"target range\", bike_rentals[\"cnt\"].min(), \"-\", bike_rentals[\"cnt\"].max())\n",
    "print(\"target sd\", np.std(bike_rentals[\"cnt\"]))"
   ]
  },
  {
   "cell_type": "markdown",
   "metadata": {},
   "source": [
    "Considering the existing distribution of cnt, the RMSE I got is very high (almost to the magnitude of the target's standard dev)."
   ]
  },
  {
   "cell_type": "markdown",
   "metadata": {},
   "source": [
    "## Applying decision tree\n",
    "\n",
    "- Use the DecisionTreeRegressor class to fit a decision tree algorithm to the train data.\n",
    "- Make predictions using the DecisionTreeRegressor class on test.\n",
    "- Calculate the error between the predictions and the actual values.\n",
    "- Experiment with various parameters of the DecisionTreeRegressor class, including min_samples_leaf, to see if it changes the error.\n",
    "- Write your thoughts on the predictions and the error in a markdown cell."
   ]
  },
  {
   "cell_type": "code",
   "execution_count": 96,
   "metadata": {},
   "outputs": [],
   "source": [
    "from sklearn.tree import DecisionTreeRegressor\n",
    "model=DecisionTreeRegressor()\n",
    "model.fit(train[predictor],train[\"cnt\"])\n",
    "predictions=model.predict(test[predictor])\n",
    "\n"
   ]
  },
  {
   "cell_type": "code",
   "execution_count": 97,
   "metadata": {},
   "outputs": [
    {
     "name": "stdout",
     "output_type": "stream",
     "text": [
      "mse 3089.8668009205985\n",
      "rmse 55.58657032881772\n",
      "target range 1 - 977\n",
      "target sd 181.38238043116962\n"
     ]
    }
   ],
   "source": [
    "## Error\n",
    "from sklearn.metrics import mean_squared_error\n",
    "mse = mean_squared_error(test[\"cnt\"], predictions)\n",
    "print(\"mse\", mse)\n",
    "rmse = mse ** (1/2)\n",
    "print(\"rmse\", rmse)\n",
    "print(\"target range\", bike_rentals[\"cnt\"].min(), \"-\", bike_rentals[\"cnt\"].max())\n",
    "print(\"target sd\", np.std(bike_rentals[\"cnt\"]))\n",
    "\n"
   ]
  },
  {
   "cell_type": "markdown",
   "metadata": {},
   "source": [
    "\n",
    "The root-mean-square error (RMSE) is a frequently used measure of the differences between values (sample and population values) predicted by a model and the values actually observed.\n",
    "RMSE = standard_deviation. So lower than this, your model is demonstrating some ability to learn; above that number, you haven't even learned to guess the mean correctly.\n"
   ]
  },
  {
   "cell_type": "code",
   "execution_count": 98,
   "metadata": {},
   "outputs": [
    {
     "name": "stdout",
     "output_type": "stream",
     "text": [
      "mse 2949.1861494693776\n",
      "rmse 54.30640983778414\n",
      "target range 1 - 977\n",
      "target sd 181.38238043116962\n"
     ]
    }
   ],
   "source": [
    "# Trying decision tree again with some model parameters\n",
    "model=DecisionTreeRegressor(min_samples_leaf=2)\n",
    "model.fit(train[predictor],train[\"cnt\"])\n",
    "predictions=model.predict(test[predictor])\n",
    "\n",
    "from sklearn.metrics import mean_squared_error\n",
    "mse = mean_squared_error(test[\"cnt\"], predictions)\n",
    "print(\"mse\", mse)\n",
    "rmse = mse ** (1/2)\n",
    "print(\"rmse\", rmse)\n",
    "print(\"target range\", bike_rentals[\"cnt\"].min(), \"-\", bike_rentals[\"cnt\"].max())\n",
    "print(\"target sd\", np.std(bike_rentals[\"cnt\"]))\n"
   ]
  },
  {
   "cell_type": "markdown",
   "metadata": {},
   "source": [
    "Hey, not bad, restricting minimum leaf samples reduced the RMSE slightly. Overall, the decision tree model is a vast improvement (in terms of reduction of error metric) on the original linear regresssion model."
   ]
  },
  {
   "cell_type": "markdown",
   "metadata": {},
   "source": [
    "## Applying random forest\n",
    "\n",
    "- Use the RandomForestRegressor class to fit a random forest algorithm to the train data.\n",
    "- Make predictions using the RandomForestRegressor class on test.\n",
    "- Calculate the error between the predictions and the actual values.\n",
    "- Experiment with various parameters of the RandomForestRegressor class, including min_samples_leaf, to see if it changes the error.\n",
    "- Write your thoughts on the predictions and the error in a markdown cell."
   ]
  },
  {
   "cell_type": "code",
   "execution_count": 100,
   "metadata": {},
   "outputs": [
    {
     "name": "stdout",
     "output_type": "stream",
     "text": [
      "42.542029072782356\n",
      "18.10157898537164\n"
     ]
    }
   ],
   "source": [
    "from sklearn.ensemble import RandomForestRegressor\n",
    "\n",
    "forest = RandomForestRegressor()\n",
    "forest.fit(train[predictor], train[\"cnt\"])\n",
    "predicts = forest.predict(test[predictor])\n",
    "rmse = mean_squared_error(test[\"cnt\"], predicts) ** (1/2)\n",
    "print(rmse)\n",
    "\n",
    "# Again testing for overfitting\n",
    "predicts_train = forest.predict(train[predictor])\n",
    "rmse_train = mean_squared_error(train[\"cnt\"], predicts_train) ** (1/2)\n",
    "print(rmse_train)"
   ]
  },
  {
   "cell_type": "code",
   "execution_count": 102,
   "metadata": {},
   "outputs": [
    {
     "name": "stdout",
     "output_type": "stream",
     "text": [
      "43.027331321804795\n",
      "23.493318970913528\n"
     ]
    }
   ],
   "source": [
    "# Testing with min leaf samples restriction\n",
    "\n",
    "forest = RandomForestRegressor(min_samples_leaf=2)\n",
    "forest.fit(train[predictor], train[\"cnt\"])\n",
    "predicts = forest.predict(test[predictor])\n",
    "rmse = mean_squared_error(test[\"cnt\"], predicts) ** (1/2)\n",
    "print(rmse)\n",
    "\n",
    "# Again testing for overfitting\n",
    "predicts_train = forest.predict(train[predictor])\n",
    "rmse_train = mean_squared_error(train[\"cnt\"], predicts_train) ** (1/2)\n",
    "print(rmse_train)\n",
    "\n"
   ]
  },
  {
   "cell_type": "code",
   "execution_count": null,
   "metadata": {},
   "outputs": [],
   "source": []
  }
 ],
 "metadata": {
  "kernelspec": {
   "display_name": "Python 3",
   "language": "python",
   "name": "python3"
  },
  "language_info": {
   "codemirror_mode": {
    "name": "ipython",
    "version": 3
   },
   "file_extension": ".py",
   "mimetype": "text/x-python",
   "name": "python",
   "nbconvert_exporter": "python",
   "pygments_lexer": "ipython3",
   "version": "3.6.4"
  }
 },
 "nbformat": 4,
 "nbformat_minor": 2
}
