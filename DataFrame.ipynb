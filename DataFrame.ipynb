{
 "cells": [
  {
   "cell_type": "code",
   "execution_count": 2,
   "metadata": {},
   "outputs": [
    {
     "name": "stdout",
     "output_type": "stream",
     "text": [
      "                                   FILM  RottenTomatoes  RottenTomatoes_User  \\\n",
      "0        Avengers: Age of Ultron (2015)              74                   86   \n",
      "145  Kumiko, The Treasure Hunter (2015)              87                   63   \n",
      "\n",
      "     Metacritic  Metacritic_User  IMDB  Fandango_Stars  Fandango_Ratingvalue  \\\n",
      "0            66              7.1   7.8             5.0                   4.5   \n",
      "145          68              6.4   6.7             3.5                   3.5   \n",
      "\n",
      "     RT_norm  RT_user_norm         ...           IMDB_norm  RT_norm_round  \\\n",
      "0       3.70          4.30         ...                3.90            3.5   \n",
      "145     4.35          3.15         ...                3.35            4.5   \n",
      "\n",
      "     RT_user_norm_round  Metacritic_norm_round  Metacritic_user_norm_round  \\\n",
      "0                   4.5                    3.5                         3.5   \n",
      "145                 3.0                    3.5                         3.0   \n",
      "\n",
      "     IMDB_norm_round  Metacritic_user_vote_count  IMDB_user_vote_count  \\\n",
      "0                4.0                        1330                271107   \n",
      "145              3.5                          19                  5289   \n",
      "\n",
      "     Fandango_votes  Fandango_Difference  \n",
      "0             14846                  0.5  \n",
      "145              41                  0.0  \n",
      "\n",
      "[2 rows x 22 columns]\n"
     ]
    }
   ],
   "source": [
    "#Return a dataframe containing just the first and last rows, and assign it to first_last.\n",
    "\n",
    "import pandas as pd\n",
    "fandango = pd.read_csv('fandango_score_comparison.csv')\n",
    "first_last=pd.DataFrame()\n",
    "first_row = 0\n",
    "last_row = fandango.shape[0] - 1\n",
    "first_last = fandango.iloc[[first_row,last_row]]\n",
    "print(first_last)"
   ]
  },
  {
   "cell_type": "code",
   "execution_count": null,
   "metadata": {},
   "outputs": [],
   "source": []
  },
  {
   "cell_type": "code",
   "execution_count": null,
   "metadata": {},
   "outputs": [],
   "source": []
  },
  {
   "cell_type": "code",
   "execution_count": 38,
   "metadata": {},
   "outputs": [
    {
     "name": "stdout",
     "output_type": "stream",
     "text": [
      "FILM                          Love & Mercy (2015)\n",
      "RottenTomatoes                                 89\n",
      "RottenTomatoes_User                            87\n",
      "Metacritic                                     80\n",
      "Metacritic_User                               8.5\n",
      "IMDB                                          7.8\n",
      "Fandango_Stars                                4.5\n",
      "Fandango_Ratingvalue                            4\n",
      "RT_norm                                      4.45\n",
      "RT_user_norm                                 4.35\n",
      "Metacritic_norm                                 4\n",
      "Metacritic_user_nom                          4.25\n",
      "IMDB_norm                                     3.9\n",
      "RT_norm_round                                 4.5\n",
      "RT_user_norm_round                            4.5\n",
      "Metacritic_norm_round                           4\n",
      "Metacritic_user_norm_round                    4.5\n",
      "IMDB_norm_round                                 4\n",
      "Metacritic_user_vote_count                     54\n",
      "IMDB_user_vote_count                         5367\n",
      "Fandango_votes                                864\n",
      "Fandango_Difference                           0.5\n",
      "Name: Love & Mercy (2015), dtype: object\n"
     ]
    }
   ],
   "source": [
    "fandango = pd.read_csv('fandango_score_comparison.csv')\n",
    "fandango_films = fandango.set_index('FILM',drop=False)\n",
    "#print(fandango_films.index)\n",
    "print(fandango_films.loc['Love & Mercy (2015)'])\n"
   ]
  },
  {
   "cell_type": "code",
   "execution_count": 1,
   "metadata": {},
   "outputs": [
    {
     "ename": "NameError",
     "evalue": "name 'fandango_films' is not defined",
     "output_type": "error",
     "traceback": [
      "\u001b[1;31m---------------------------------------------------------------------------\u001b[0m",
      "\u001b[1;31mNameError\u001b[0m                                 Traceback (most recent call last)",
      "\u001b[1;32m<ipython-input-1-354852fe44ae>\u001b[0m in \u001b[0;36m<module>\u001b[1;34m()\u001b[0m\n\u001b[0;32m      1\u001b[0m \u001b[0mmovies\u001b[0m \u001b[1;33m=\u001b[0m \u001b[1;33m[\u001b[0m\u001b[1;34m\"The Lazarus Effect (2015)\"\u001b[0m\u001b[1;33m,\u001b[0m \u001b[1;34m\"Gett: The Trial of Viviane Amsalem (2015)\"\u001b[0m\u001b[1;33m,\u001b[0m\u001b[1;34m\"Mr. Holmes (2015)\"\u001b[0m\u001b[1;33m]\u001b[0m\u001b[1;33m\u001b[0m\u001b[0m\n\u001b[1;32m----> 2\u001b[1;33m \u001b[0mbest_movies_ever\u001b[0m\u001b[1;33m=\u001b[0m\u001b[0mfandango_films\u001b[0m\u001b[1;33m.\u001b[0m\u001b[0mloc\u001b[0m\u001b[1;33m[\u001b[0m\u001b[0mmovies\u001b[0m\u001b[1;33m]\u001b[0m\u001b[1;33m\u001b[0m\u001b[0m\n\u001b[0m",
      "\u001b[1;31mNameError\u001b[0m: name 'fandango_films' is not defined"
     ]
    }
   ],
   "source": [
    "movies = [\"The Lazarus Effect (2015)\", \"Gett: The Trial of Viviane Amsalem (2015)\",\"Mr. Holmes (2015)\"]\n",
    "best_movies_ever=fandango_films.loc[movies]"
   ]
  },
  {
   "cell_type": "code",
   "execution_count": null,
   "metadata": {},
   "outputs": [],
   "source": []
  },
  {
   "cell_type": "code",
   "execution_count": null,
   "metadata": {},
   "outputs": [],
   "source": []
  }
 ],
 "metadata": {
  "kernelspec": {
   "display_name": "Python 3",
   "language": "python",
   "name": "python3"
  },
  "language_info": {
   "codemirror_mode": {
    "name": "ipython",
    "version": 3
   },
   "file_extension": ".py",
   "mimetype": "text/x-python",
   "name": "python",
   "nbconvert_exporter": "python",
   "pygments_lexer": "ipython3",
   "version": "3.6.4"
  }
 },
 "nbformat": 4,
 "nbformat_minor": 2
}
